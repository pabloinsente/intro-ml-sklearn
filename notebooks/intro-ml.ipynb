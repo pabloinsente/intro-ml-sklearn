{
 "cells": [
  {
   "cell_type": "markdown",
   "metadata": {},
   "source": [
    "# Machine learning"
   ]
  },
  {
   "cell_type": "markdown",
   "metadata": {},
   "source": [
    "## Contents in this section"
   ]
  },
  {
   "cell_type": "markdown",
   "metadata": {},
   "source": [
    "**Machine learning**\n",
    "\n",
    "- What is machine learning\n",
    "- When to use machine learning\n",
    "    - When the solution is unknown\n",
    "    - When the solution is known but too costly or unfeasible\n",
    "    - When an imperfect solution is acceptable\n",
    "    - When the solution changes over time at relatively fast pace\n",
    "    - When large amounts of data are available or can be collected\n",
    "- Prerequisites for applied machine learning\n",
    "- Types of machine learning\n",
    "    - Supervised learning \n",
    "    - Unsupervised learning\n",
    "    - Semi-supervised learning\n",
    "    - Reinforcement learning\n",
    "- Components of learning algorithms\n",
    "    - Information: training and testing data\n",
    "    - Representation of the solution: model\n",
    "    - Metric of success: cost function\n",
    "    - Self-adjusting mechanism: learning algorithm"
   ]
  },
  {
   "cell_type": "markdown",
   "metadata": {},
   "source": [
    "## What is machine learning"
   ]
  },
  {
   "cell_type": "markdown",
   "metadata": {},
   "source": [
    "Multiple definitions of machine learning have been offered since its inception. Here is Arthur Samuel's (1959) definition:\n",
    "\n",
    "```\n",
    "\"field of study that gives computers the ability to learn without being explicitly programmed\"\n",
    "```\n",
    "\n",
    "Samuel's definition is similar to many others you can find in popular textbooks. It describes machine learning in opposition to traditional programming where humans figure it out the solution to the problem by themselves, to then codify the solution into the system explicitly. Machine learning, in contrast, are systems that find solutions for you. The role of designers is to set up a system capable of finding solutions based on data about the problem. Microwaves are programmed in the traditional way: programmers and engineers figure out the problem beforehand and then codify the solution into the microwave. Spam filters are examples of machine learning systems: programmers and engineers collect data and set up a learning system that will found the best possible solution automatically, without having to codify a set of rules and step to follow for the system. \n",
    "\n",
    "That being said, I think the issue of what machine learning is requires a bit more discussion. \n",
    "\n",
    "I had always think on **learning** as something that only living organism do. Broadly speaking, in Psychology we understand **learning as changes in the contents of the mind and/or patterns of behavior in response to interactions with the environment.** Rocks don't learn, because they don't think or behave. Printers don't learn, because although they \"do things\", they do not have autonomy or volition of any kind. \"*But free will is an illusion, living things do no have autonomy anyways!*\" I do agree with the idea that, ultimately, living organism do not behave freely in the strict sense of the word. Yet, the point is that once a living organism pops into existence it can control and -importantly- adapt its own behavior in response to the environment. Here is where the notion of \"machine\" learning gets confusing. True, machines (let's leave the definition of machine aside for now) can \"react\" in response to the environment, but that does not seems to be enough. Thermostats reacts to the temperature changes in the environment by \"adjusting\" temperature information, but that does not seems to be the notion of \"adjustment\" we are looking for. In short, reacting to the environment is not the same as adjusting to it. **Machines reactions are more similar to human reflexes than learning**, and we do not understand reflexes as learning, as they are (mostly) static and innate.\n",
    "\n",
    "Reacting to the environment is not enough. **Machines need flexibility**. Here is where \"algorithms\" take an step-forward: as mathematical formulas, they do have **parameters** that can be adjusted in response to interacting with the environment (i.e., data). Coffee machines will (hopefully) the same thing each time you press the same button. A machine learning algorithm may or may not do the same thing each time you input the same data, as it contains the capacity of progressively adjust its \"behavior\".  \n",
    "\n",
    "There is more. Living organism do not adjust (at least not most of the time) randomly. They have goals. Goals do not need to be conscious, just to be guiding forces driving behavioral change.  Worms have no capacity for conscious thinking, yet survival is an \"implicit goal\" guiding their behavior. Hence, flexible adjustment to the environment is not enough. **Machines need goals**. In machine learning jargon, goals are the so-called **objective function** (or target function, or cost function). True, machines have no awareness of such a \"goal\" and it was externally imposed by its designer, but they have goals regardless: **minimizing or maximizing the objective function**. \n",
    "\n",
    "I have read several discussions around machine learning and deep learning that dismissively describe the field as \"just an algebraic expression\" or \"just a formula\". And they are right to some extent: machine learning algorithms ultimately are mathematical expressions, and it is good to keep this in mind to not feel unnecessarily intimidated. But here is the catch: living organism are no different. Even human behavior could be described in a mathematical expression. The issue is that the level of complexity of human behavior it's so tremendous that we do not how, but in principle we could.  \n",
    "\n",
    "In summary, **machine learning is the art and science of creating algorithms that can flexibility adjust (its parameters) in response to interactions with the environment (data)**. Although learning machines do not replicate the conditions, complexity and substance of living organism, utilizing this conceptualization is justifiable in the basis of our previous discussion."
   ]
  },
  {
   "cell_type": "markdown",
   "metadata": {},
   "source": [
    "## When to use machine learning"
   ]
  },
  {
   "cell_type": "markdown",
   "metadata": {},
   "source": [
    "The media attention to machine learning and artificial intelligence, may convey the impression that all technology uses machine learning for every possible problem. Although is true most new technology probably uses some form of machine learning somewhere, the vast majority of the functions that electronic devices perform, do not implement or require machine learning at all. Yes, many of the functions in your cellphone do implement some form of computer vision or speech recognition, but the rest is old fashion plain programming. My point here is: although it may be tempting to incorporate machine learning to every problem, that does not mean that everything should be approached in that manner, or that it is necessary at all. Here is an incomplete list of situations when utilizing machine learning can be a good idea:\n",
    "\n",
    "- When the solution is unknown \n",
    "- When the solution is known but too costly or technically unfeasible\n",
    "- When an imperfect solution is acceptable\n",
    "- When the solution changes over time at relatively fast pace\n",
    "- When large amounts of data are available or can be collected\n",
    "\n",
    "Let me justify this little list of circumstances."
   ]
  },
  {
   "cell_type": "markdown",
   "metadata": {},
   "source": [
    "### When the solution is unknown "
   ]
  },
  {
   "cell_type": "markdown",
   "metadata": {},
   "source": [
    "There are many problems that we have figured out in the last century from computing or algorithmic perspective. "
   ]
  },
  {
   "cell_type": "markdown",
   "metadata": {},
   "source": [
    "### When the solution is known but too costly or unfeasible"
   ]
  },
  {
   "cell_type": "markdown",
   "metadata": {},
   "source": [
    "### When an imperfect solution is acceptable"
   ]
  },
  {
   "cell_type": "markdown",
   "metadata": {},
   "source": [
    "### When the solution changes over time at relatively fast pace"
   ]
  },
  {
   "cell_type": "markdown",
   "metadata": {},
   "source": [
    "### When large amounts of data are available or can be collected"
   ]
  },
  {
   "cell_type": "markdown",
   "metadata": {},
   "source": [
    "## Prerequisites for applied machine learning"
   ]
  },
  {
   "cell_type": "markdown",
   "metadata": {},
   "source": [
    "Research in machine learning and applied machine learning have different prerequisites. Here I am concerned with the latter. Broadly speaking, applied machine learning has the following prerequisites:\n",
    "\n",
    "1. Intermediate level understanding of mathematical basis: linear algebra, calculus, probability theory, information theory, and optimization\n",
    "2. Intermediate level skills in programming and computer science fundamentals\n",
    "3. Training in applied research methods and scientific thinking\n",
    "\n",
    "In my experience, most people overemphasis the first two, particularly the second one. The third, in my opinion, is as important if not more important the first two. It is also hard to acquire as is something for which you will need a mentor, peers, and applied research opportunities. The easiest way to acquire those is via formal undergraduate and graduate level education, or via multiple internships and industry experience. Sometimes I see people, particularly recruiters and hiring managers, that believe that the best machine learning practitioner candidates are the ones that obtained a double major in mathematics and computer science from MIT or some other prestigious institution. I think they are deeply mistaken. There is nothing in the standard curricula of mathematics and CS majors conducting to develop the complex array of intellectual skills required for becoming a creative and effective expert in applied machine learning. What you need, is actual applied experience dealing with open-ended problems and the guidance of a mentor and peers. The reason why Math/CS graduates from prestigious institutions turn out to be good ML practitioners, I believe, is because they are usually highly skilled, ambitious, and fast-learners, so they adjust fast. \n",
    "\n",
    "Acquiring the first two skills may or may not be hard for you depending on your background and preferences, but they do have the advantage that are things that you can learn -mostly- on your own. I learned linear algebra on my own. My recipe was to grab a bunch of books and watch a lot of video-lectures. Doing it on your own can be though as no instructors, peers, or external structure is around you to help when your motivation wanes or you get stuck. But it is possible. \n",
    "\n",
    "In any case, whatever your resources or the order in which you decide to learn applied machine learning, I highly recommend putting effort in becoming proficient (not an expert) at those things: mathematical foundations, programming and CS foundations, and gather as much research experience and scientific training as possible."
   ]
  },
  {
   "cell_type": "markdown",
   "metadata": {},
   "source": [
    "## Types of machine learning"
   ]
  },
  {
   "cell_type": "markdown",
   "metadata": {},
   "source": [
    "### Supervised learning"
   ]
  },
  {
   "cell_type": "markdown",
   "metadata": {},
   "source": [
    "\n",
    "Algorithms can interact with data (the \"environment\") in a wide variety of ways, and we can classify learning algorithms on such basis. **We said an algorithm learns in a \"supervised\" fashion when a\"trainer\" oversees and corrects its \"behavior\" explicitly**. This is done by providing the correct answer and nudging the algorithm into the right direction after each attempt. For instance, let's say you are \"training\" an algorithm to classify tropical fruits. Supervised learning algorithms need: (\n",
    "\n",
    "1) data describing the fruit  (\"features\" or \"variables\") ; (2) data describing the right answer (\"targets\"); (3) a way to assess the correctness of its answer (\"an objective or cost function\"); (4) and a way to adjust its \"behavior\" after each trial (\"learning procedure\"). \n",
    "\n",
    "if you're keen to mathematical formalism, we can use the following notation:\n",
    "\n",
    "```\n",
    "\n",
    "```\n",
    "\n",
    "Supervised learning operates under the assumption that the collected samples are independent and identically distributed or **i.i.d.** To put this in lay terms, imagine you have a bucket of red and green marbels and you draw samples from it. To be independent, the probability of grabing a marbel, should not impact the probability of collecting any subsequent sample. Each time you grab a marbel from the bucket, this must occur at random. To be identically distributed, you must always sample marbels from the same bucket, and the contents of the bucket must not change in the process. If you were yo sample from a different bucket or the contents of your bucket change, for instance, you add more red marbels, you will not be sampling from the same distribution.\n"
   ]
  },
  {
   "cell_type": "markdown",
   "metadata": {},
   "source": [
    "### Unsupervised learning"
   ]
  },
  {
   "cell_type": "markdown",
   "metadata": {},
   "source": [
    "### Semi-supervised learning"
   ]
  },
  {
   "cell_type": "markdown",
   "metadata": {},
   "source": [
    "### Reinforcement learning"
   ]
  },
  {
   "cell_type": "markdown",
   "metadata": {},
   "source": [
    "## Components of learning algorithms"
   ]
  },
  {
   "cell_type": "markdown",
   "metadata": {},
   "source": [
    "## Information: training and testing data "
   ]
  },
  {
   "cell_type": "markdown",
   "metadata": {},
   "source": [
    "## Representation of the solution: Model "
   ]
  },
  {
   "cell_type": "markdown",
   "metadata": {},
   "source": [
    "## Metric of success: Objective function"
   ]
  },
  {
   "cell_type": "markdown",
   "metadata": {},
   "source": [
    "## Self-adjusting mechanism: Learning algorithm"
   ]
  }
 ],
 "metadata": {
  "kernelspec": {
   "display_name": "Python 3.6.8 64-bit ('venv': venv)",
   "language": "python",
   "name": "python36864bitvenvvenve269670d94154a47aa0ba5a4660e02de"
  },
  "language_info": {
   "codemirror_mode": {
    "name": "ipython",
    "version": 3
   },
   "file_extension": ".py",
   "mimetype": "text/x-python",
   "name": "python",
   "nbconvert_exporter": "python",
   "pygments_lexer": "ipython3",
   "version": "3.6.8"
  }
 },
 "nbformat": 4,
 "nbformat_minor": 4
}
